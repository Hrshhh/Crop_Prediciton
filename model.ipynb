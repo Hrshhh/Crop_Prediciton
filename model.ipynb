{
 "cells": [
  {
   "cell_type": "markdown",
   "metadata": {},
   "source": []
  },
  {
   "cell_type": "code",
   "execution_count": null,
   "metadata": {},
   "outputs": [],
   "source": []
  },
  {
   "cell_type": "code",
   "execution_count": 7,
   "metadata": {},
   "outputs": [],
   "source": [
    "\n",
    "#imprting required libraries \n",
    "from __future__ import print_function\n",
    "import pandas as pd\n",
    "import numpy as np\n",
    "import matplotlib.pyplot as plt\n",
    "import seaborn as sns\n",
    "from sklearn.metrics import classification_report\n",
    "from sklearn import metrics\n",
    "from sklearn import tree\n",
    "import pickle"
   ]
  },
  {
   "cell_type": "code",
   "execution_count": 8,
   "metadata": {},
   "outputs": [],
   "source": [
    "#reading the data and converting it into dataframe\n",
    "PATH = 'crop_data.csv'\n",
    "df = pd.read_csv(PATH)"
   ]
  },
  {
   "cell_type": "code",
   "execution_count": 9,
   "metadata": {},
   "outputs": [
    {
     "data": {
      "text/html": [
       "<div>\n",
       "<style scoped>\n",
       "    .dataframe tbody tr th:only-of-type {\n",
       "        vertical-align: middle;\n",
       "    }\n",
       "\n",
       "    .dataframe tbody tr th {\n",
       "        vertical-align: top;\n",
       "    }\n",
       "\n",
       "    .dataframe thead th {\n",
       "        text-align: right;\n",
       "    }\n",
       "</style>\n",
       "<table border=\"1\" class=\"dataframe\">\n",
       "  <thead>\n",
       "    <tr style=\"text-align: right;\">\n",
       "      <th></th>\n",
       "      <th>N</th>\n",
       "      <th>P</th>\n",
       "      <th>K</th>\n",
       "      <th>temperature</th>\n",
       "      <th>humidity</th>\n",
       "      <th>ph</th>\n",
       "      <th>rainfall</th>\n",
       "      <th>label</th>\n",
       "    </tr>\n",
       "  </thead>\n",
       "  <tbody>\n",
       "    <tr>\n",
       "      <th>0</th>\n",
       "      <td>90</td>\n",
       "      <td>42</td>\n",
       "      <td>43</td>\n",
       "      <td>20.879744</td>\n",
       "      <td>82.002744</td>\n",
       "      <td>6.502985</td>\n",
       "      <td>202.935536</td>\n",
       "      <td>rice</td>\n",
       "    </tr>\n",
       "    <tr>\n",
       "      <th>1</th>\n",
       "      <td>85</td>\n",
       "      <td>58</td>\n",
       "      <td>41</td>\n",
       "      <td>21.770462</td>\n",
       "      <td>80.319644</td>\n",
       "      <td>7.038096</td>\n",
       "      <td>226.655537</td>\n",
       "      <td>rice</td>\n",
       "    </tr>\n",
       "    <tr>\n",
       "      <th>2</th>\n",
       "      <td>60</td>\n",
       "      <td>55</td>\n",
       "      <td>44</td>\n",
       "      <td>23.004459</td>\n",
       "      <td>82.320763</td>\n",
       "      <td>7.840207</td>\n",
       "      <td>263.964248</td>\n",
       "      <td>rice</td>\n",
       "    </tr>\n",
       "    <tr>\n",
       "      <th>3</th>\n",
       "      <td>74</td>\n",
       "      <td>35</td>\n",
       "      <td>40</td>\n",
       "      <td>26.491096</td>\n",
       "      <td>80.158363</td>\n",
       "      <td>6.980401</td>\n",
       "      <td>242.864034</td>\n",
       "      <td>rice</td>\n",
       "    </tr>\n",
       "    <tr>\n",
       "      <th>4</th>\n",
       "      <td>78</td>\n",
       "      <td>42</td>\n",
       "      <td>42</td>\n",
       "      <td>20.130175</td>\n",
       "      <td>81.604873</td>\n",
       "      <td>7.628473</td>\n",
       "      <td>262.717340</td>\n",
       "      <td>rice</td>\n",
       "    </tr>\n",
       "  </tbody>\n",
       "</table>\n",
       "</div>"
      ],
      "text/plain": [
       "    N   P   K  temperature   humidity        ph    rainfall label\n",
       "0  90  42  43    20.879744  82.002744  6.502985  202.935536  rice\n",
       "1  85  58  41    21.770462  80.319644  7.038096  226.655537  rice\n",
       "2  60  55  44    23.004459  82.320763  7.840207  263.964248  rice\n",
       "3  74  35  40    26.491096  80.158363  6.980401  242.864034  rice\n",
       "4  78  42  42    20.130175  81.604873  7.628473  262.717340  rice"
      ]
     },
     "execution_count": 9,
     "metadata": {},
     "output_type": "execute_result"
    }
   ],
   "source": [
    "df.head()"
   ]
  },
  {
   "cell_type": "code",
   "execution_count": 10,
   "metadata": {},
   "outputs": [
    {
     "data": {
      "text/html": [
       "<div>\n",
       "<style scoped>\n",
       "    .dataframe tbody tr th:only-of-type {\n",
       "        vertical-align: middle;\n",
       "    }\n",
       "\n",
       "    .dataframe tbody tr th {\n",
       "        vertical-align: top;\n",
       "    }\n",
       "\n",
       "    .dataframe thead th {\n",
       "        text-align: right;\n",
       "    }\n",
       "</style>\n",
       "<table border=\"1\" class=\"dataframe\">\n",
       "  <thead>\n",
       "    <tr style=\"text-align: right;\">\n",
       "      <th></th>\n",
       "      <th>N</th>\n",
       "      <th>P</th>\n",
       "      <th>K</th>\n",
       "      <th>temperature</th>\n",
       "      <th>humidity</th>\n",
       "      <th>ph</th>\n",
       "      <th>rainfall</th>\n",
       "      <th>label</th>\n",
       "    </tr>\n",
       "  </thead>\n",
       "  <tbody>\n",
       "    <tr>\n",
       "      <th>2195</th>\n",
       "      <td>107</td>\n",
       "      <td>34</td>\n",
       "      <td>32</td>\n",
       "      <td>26.774637</td>\n",
       "      <td>66.413269</td>\n",
       "      <td>6.780064</td>\n",
       "      <td>177.774507</td>\n",
       "      <td>coffee</td>\n",
       "    </tr>\n",
       "    <tr>\n",
       "      <th>2196</th>\n",
       "      <td>99</td>\n",
       "      <td>15</td>\n",
       "      <td>27</td>\n",
       "      <td>27.417112</td>\n",
       "      <td>56.636362</td>\n",
       "      <td>6.086922</td>\n",
       "      <td>127.924610</td>\n",
       "      <td>coffee</td>\n",
       "    </tr>\n",
       "    <tr>\n",
       "      <th>2197</th>\n",
       "      <td>118</td>\n",
       "      <td>33</td>\n",
       "      <td>30</td>\n",
       "      <td>24.131797</td>\n",
       "      <td>67.225123</td>\n",
       "      <td>6.362608</td>\n",
       "      <td>173.322839</td>\n",
       "      <td>coffee</td>\n",
       "    </tr>\n",
       "    <tr>\n",
       "      <th>2198</th>\n",
       "      <td>117</td>\n",
       "      <td>32</td>\n",
       "      <td>34</td>\n",
       "      <td>26.272418</td>\n",
       "      <td>52.127394</td>\n",
       "      <td>6.758793</td>\n",
       "      <td>127.175293</td>\n",
       "      <td>coffee</td>\n",
       "    </tr>\n",
       "    <tr>\n",
       "      <th>2199</th>\n",
       "      <td>104</td>\n",
       "      <td>18</td>\n",
       "      <td>30</td>\n",
       "      <td>23.603016</td>\n",
       "      <td>60.396475</td>\n",
       "      <td>6.779833</td>\n",
       "      <td>140.937041</td>\n",
       "      <td>coffee</td>\n",
       "    </tr>\n",
       "  </tbody>\n",
       "</table>\n",
       "</div>"
      ],
      "text/plain": [
       "        N   P   K  temperature   humidity        ph    rainfall   label\n",
       "2195  107  34  32    26.774637  66.413269  6.780064  177.774507  coffee\n",
       "2196   99  15  27    27.417112  56.636362  6.086922  127.924610  coffee\n",
       "2197  118  33  30    24.131797  67.225123  6.362608  173.322839  coffee\n",
       "2198  117  32  34    26.272418  52.127394  6.758793  127.175293  coffee\n",
       "2199  104  18  30    23.603016  60.396475  6.779833  140.937041  coffee"
      ]
     },
     "execution_count": 10,
     "metadata": {},
     "output_type": "execute_result"
    }
   ],
   "source": [
    "df.tail()"
   ]
  },
  {
   "cell_type": "code",
   "execution_count": 11,
   "metadata": {},
   "outputs": [
    {
     "data": {
      "text/plain": [
       "(2200, 8)"
      ]
     },
     "execution_count": 11,
     "metadata": {},
     "output_type": "execute_result"
    }
   ],
   "source": [
    "#to check the dimensions\n",
    "df.shape"
   ]
  },
  {
   "cell_type": "code",
   "execution_count": 12,
   "metadata": {},
   "outputs": [
    {
     "data": {
      "text/plain": [
       "Index(['N', 'P', 'K', 'temperature', 'humidity', 'ph', 'rainfall', 'label'], dtype='object')"
      ]
     },
     "execution_count": 12,
     "metadata": {},
     "output_type": "execute_result"
    }
   ],
   "source": [
    "#to get the attributes of data\n",
    "df.columns"
   ]
  },
  {
   "cell_type": "code",
   "execution_count": 13,
   "metadata": {},
   "outputs": [
    {
     "data": {
      "text/plain": [
       "array(['rice', 'maize', 'chickpea', 'kidneybeans', 'pigeonpeas',\n",
       "       'mothbeans', 'mungbean', 'blackgram', 'lentil', 'pomegranate',\n",
       "       'banana', 'mango', 'grapes', 'watermelon', 'muskmelon', 'apple',\n",
       "       'orange', 'papaya', 'coconut', 'cotton', 'jute', 'coffee'],\n",
       "      dtype=object)"
      ]
     },
     "execution_count": 13,
     "metadata": {},
     "output_type": "execute_result"
    }
   ],
   "source": [
    "#listing the different crops\n",
    "df['label'].unique()"
   ]
  },
  {
   "cell_type": "code",
   "execution_count": 14,
   "metadata": {},
   "outputs": [
    {
     "data": {
      "text/plain": [
       "N                int64\n",
       "P                int64\n",
       "K                int64\n",
       "temperature    float64\n",
       "humidity       float64\n",
       "ph             float64\n",
       "rainfall       float64\n",
       "label           object\n",
       "dtype: object"
      ]
     },
     "execution_count": 14,
     "metadata": {},
     "output_type": "execute_result"
    }
   ],
   "source": [
    "#checking the data types of every attribute\n",
    "df.dtypes"
   ]
  },
  {
   "cell_type": "code",
   "execution_count": 15,
   "metadata": {},
   "outputs": [
    {
     "data": {
      "text/plain": [
       "maize          100\n",
       "mango          100\n",
       "chickpea       100\n",
       "muskmelon      100\n",
       "orange         100\n",
       "blackgram      100\n",
       "pigeonpeas     100\n",
       "cotton         100\n",
       "pomegranate    100\n",
       "rice           100\n",
       "coffee         100\n",
       "mungbean       100\n",
       "lentil         100\n",
       "coconut        100\n",
       "jute           100\n",
       "banana         100\n",
       "watermelon     100\n",
       "apple          100\n",
       "grapes         100\n",
       "papaya         100\n",
       "kidneybeans    100\n",
       "mothbeans      100\n",
       "Name: label, dtype: int64"
      ]
     },
     "execution_count": 15,
     "metadata": {},
     "output_type": "execute_result"
    }
   ],
   "source": [
    "#counting the presence of each crop in the data set\n",
    "df['label'].value_counts()"
   ]
  },
  {
   "cell_type": "code",
   "execution_count": 16,
   "metadata": {},
   "outputs": [
    {
     "data": {
      "text/plain": [
       "<AxesSubplot:>"
      ]
     },
     "execution_count": 16,
     "metadata": {},
     "output_type": "execute_result"
    },
    {
     "data": {
      "image/png": "[encoded data removed]",
      "text/plain": [
       "<Figure size 432x288 with 2 Axes>"
      ]
     },
     "metadata": {
      "needs_background": "light"
     },
     "output_type": "display_data"
    }
   ],
   "source": [
    "#visualizing the correaltion\n",
    "sns.heatmap(df.corr(),annot=True)"
   ]
  },
  {
   "cell_type": "code",
   "execution_count": 17,
   "metadata": {},
   "outputs": [],
   "source": [
    "#Storing in X and y for splitting\n",
    "X=df[['N', 'P','K','temperature', 'humidity', 'ph', 'rainfall']]\n",
    "Y=df['label']"
   ]
  },
  {
   "cell_type": "code",
   "execution_count": 18,
   "metadata": {},
   "outputs": [],
   "source": [
    "#splitting the data into train and test\n",
    "\n",
    "from sklearn.model_selection import train_test_split\n",
    "Xtrain, Xtest, Ytrain, Ytest = train_test_split(X,Y,test_size = 0.2,random_state=10,shuffle=True)"
   ]
  },
  {
   "cell_type": "code",
   "execution_count": 19,
   "metadata": {},
   "outputs": [
    {
     "name": "stdout",
     "output_type": "stream",
     "text": [
      "For n_estimators = 1 the accuracy is :  0.9590909090909091\n",
      "For n_estimators = 2 the accuracy is :  0.9681818181818181\n",
      "For n_estimators = 3 the accuracy is :  0.9931818181818182\n",
      "For n_estimators = 4 the accuracy is :  0.9977272727272727\n",
      "For n_estimators = 5 the accuracy is :  1.0\n",
      "For n_estimators = 6 the accuracy is :  0.9977272727272727\n",
      "For n_estimators = 7 the accuracy is :  0.9977272727272727\n",
      "For n_estimators = 8 the accuracy is :  0.9977272727272727\n",
      "For n_estimators = 9 the accuracy is :  1.0\n",
      "For n_estimators = 10 the accuracy is :  0.9977272727272727\n",
      "For n_estimators = 11 the accuracy is :  0.9977272727272727\n",
      "For n_estimators = 12 the accuracy is :  0.9954545454545455\n",
      "For n_estimators = 13 the accuracy is :  0.9977272727272727\n",
      "For n_estimators = 14 the accuracy is :  0.9954545454545455\n",
      "For n_estimators = 15 the accuracy is :  0.9977272727272727\n",
      "For n_estimators = 16 the accuracy is :  0.9977272727272727\n",
      "For n_estimators = 17 the accuracy is :  0.9977272727272727\n",
      "For n_estimators = 18 the accuracy is :  0.9977272727272727\n",
      "For n_estimators = 19 the accuracy is :  0.9977272727272727\n",
      "For n_estimators = 20 the accuracy is :  0.9977272727272727\n",
      "For n_estimators = 21 the accuracy is :  0.9977272727272727\n",
      "For n_estimators = 22 the accuracy is :  0.9977272727272727\n",
      "For n_estimators = 23 the accuracy is :  0.9977272727272727\n",
      "For n_estimators = 24 the accuracy is :  0.9977272727272727\n",
      "For n_estimators = 25 the accuracy is :  0.9977272727272727\n",
      "For n_estimators = 26 the accuracy is :  0.9977272727272727\n",
      "For n_estimators = 27 the accuracy is :  0.9977272727272727\n",
      "For n_estimators = 28 the accuracy is :  0.9977272727272727\n",
      "For n_estimators = 29 the accuracy is :  0.9977272727272727\n",
      "For n_estimators = 30 the accuracy is :  0.9977272727272727\n",
      "For n_estimators = 31 the accuracy is :  0.9954545454545455\n",
      "For n_estimators = 32 the accuracy is :  0.9977272727272727\n",
      "For n_estimators = 33 the accuracy is :  0.9954545454545455\n",
      "For n_estimators = 34 the accuracy is :  0.9954545454545455\n",
      "For n_estimators = 35 the accuracy is :  0.9954545454545455\n",
      "For n_estimators = 36 the accuracy is :  0.9954545454545455\n",
      "For n_estimators = 37 the accuracy is :  0.9954545454545455\n",
      "For n_estimators = 38 the accuracy is :  0.9954545454545455\n",
      "For n_estimators = 39 the accuracy is :  0.9954545454545455\n",
      "For n_estimators = 40 the accuracy is :  0.9977272727272727\n",
      "For n_estimators = 41 the accuracy is :  0.9954545454545455\n",
      "For n_estimators = 42 the accuracy is :  0.9954545454545455\n",
      "For n_estimators = 43 the accuracy is :  0.9954545454545455\n",
      "For n_estimators = 44 the accuracy is :  0.9977272727272727\n",
      "For n_estimators = 45 the accuracy is :  0.9954545454545455\n",
      "For n_estimators = 46 the accuracy is :  0.9977272727272727\n",
      "For n_estimators = 47 the accuracy is :  0.9954545454545455\n",
      "For n_estimators = 48 the accuracy is :  0.9977272727272727\n",
      "For n_estimators = 49 the accuracy is :  0.9977272727272727\n",
      "For n_estimators = 50 the accuracy is :  0.9977272727272727\n",
      "For n_estimators = 51 the accuracy is :  0.9977272727272727\n",
      "For n_estimators = 52 the accuracy is :  0.9977272727272727\n",
      "For n_estimators = 53 the accuracy is :  0.9977272727272727\n",
      "For n_estimators = 54 the accuracy is :  0.9977272727272727\n",
      "For n_estimators = 55 the accuracy is :  0.9977272727272727\n",
      "For n_estimators = 56 the accuracy is :  0.9977272727272727\n",
      "For n_estimators = 57 the accuracy is :  0.9977272727272727\n",
      "For n_estimators = 58 the accuracy is :  0.9977272727272727\n",
      "For n_estimators = 59 the accuracy is :  0.9977272727272727\n",
      "For n_estimators = 60 the accuracy is :  0.9977272727272727\n",
      "For n_estimators = 61 the accuracy is :  0.9977272727272727\n",
      "For n_estimators = 62 the accuracy is :  0.9977272727272727\n",
      "For n_estimators = 63 the accuracy is :  0.9977272727272727\n",
      "For n_estimators = 64 the accuracy is :  0.9977272727272727\n",
      "For n_estimators = 65 the accuracy is :  0.9977272727272727\n",
      "For n_estimators = 66 the accuracy is :  0.9977272727272727\n",
      "For n_estimators = 67 the accuracy is :  0.9977272727272727\n",
      "For n_estimators = 68 the accuracy is :  0.9977272727272727\n",
      "For n_estimators = 69 the accuracy is :  0.9977272727272727\n",
      "For n_estimators = 70 the accuracy is :  0.9977272727272727\n",
      "For n_estimators = 71 the accuracy is :  0.9977272727272727\n",
      "For n_estimators = 72 the accuracy is :  0.9977272727272727\n",
      "For n_estimators = 73 the accuracy is :  0.9977272727272727\n",
      "For n_estimators = 74 the accuracy is :  0.9977272727272727\n",
      "For n_estimators = 75 the accuracy is :  0.9977272727272727\n",
      "For n_estimators = 76 the accuracy is :  0.9977272727272727\n",
      "For n_estimators = 77 the accuracy is :  0.9977272727272727\n",
      "For n_estimators = 78 the accuracy is :  0.9977272727272727\n",
      "For n_estimators = 79 the accuracy is :  0.9977272727272727\n",
      "For n_estimators = 80 the accuracy is :  0.9977272727272727\n",
      "For n_estimators = 81 the accuracy is :  0.9977272727272727\n",
      "For n_estimators = 82 the accuracy is :  0.9977272727272727\n",
      "For n_estimators = 83 the accuracy is :  0.9954545454545455\n",
      "For n_estimators = 84 the accuracy is :  0.9977272727272727\n",
      "For n_estimators = 85 the accuracy is :  0.9954545454545455\n",
      "For n_estimators = 86 the accuracy is :  0.9977272727272727\n",
      "For n_estimators = 87 the accuracy is :  0.9954545454545455\n",
      "For n_estimators = 88 the accuracy is :  0.9954545454545455\n",
      "For n_estimators = 89 the accuracy is :  0.9954545454545455\n",
      "For n_estimators = 90 the accuracy is :  0.9954545454545455\n",
      "For n_estimators = 91 the accuracy is :  0.9954545454545455\n",
      "For n_estimators = 92 the accuracy is :  0.9954545454545455\n",
      "For n_estimators = 93 the accuracy is :  0.9954545454545455\n",
      "For n_estimators = 94 the accuracy is :  0.9954545454545455\n",
      "For n_estimators = 95 the accuracy is :  0.9954545454545455\n",
      "For n_estimators = 96 the accuracy is :  0.9954545454545455\n",
      "For n_estimators = 97 the accuracy is :  0.9954545454545455\n",
      "For n_estimators = 98 the accuracy is :  0.9954545454545455\n",
      "For n_estimators = 99 the accuracy is :  0.9954545454545455\n"
     ]
    }
   ],
   "source": [
    "\n",
    "#checking the accuracy  of randomforestclassifier with different n_estimators value\n",
    "\n",
    "from sklearn.ensemble import RandomForestClassifier\n",
    "\n",
    "check_accuracy=[]\n",
    "\n",
    "for i in range(1,100):\n",
    "    RF = RandomForestClassifier(n_estimators=i, random_state=5)\n",
    "    RF.fit(Xtrain,Ytrain)\n",
    "    predicted_values = RF.predict(Xtest)\n",
    "    x = metrics.accuracy_score(Ytest, predicted_values)\n",
    "    check_accuracy.append(x)\n",
    "    \n",
    "    print('For n_estimators =',i,'the accuracy is : ',x) "
   ]
  },
  {
   "cell_type": "code",
   "execution_count": 20,
   "metadata": {},
   "outputs": [
    {
     "data": {
      "text/plain": [
       "Text(0, 0.5, 'Testing Accuracy')"
      ]
     },
     "execution_count": 20,
     "metadata": {},
     "output_type": "execute_result"
    },
    {
     "data": {
      "image/png": "[encoded data removed]",
      "text/plain": [
       "<Figure size 432x288 with 1 Axes>"
      ]
     },
     "metadata": {
      "needs_background": "light"
     },
     "output_type": "display_data"
    }
   ],
   "source": [
    "#plotting the accuracy for different n_estimators values\n",
    "plt.plot(range(1,100), check_accuracy)\n",
    "plt.xlabel('Value of n_estimators for Random Forest Classifier')\n",
    "plt.ylabel('Testing Accuracy')"
   ]
  },
  {
   "cell_type": "markdown",
   "metadata": {},
   "source": [
    "For n_estimators = 50, the accuracy is one of the highest and consistent"
   ]
  },
  {
   "cell_type": "code",
   "execution_count": 21,
   "metadata": {},
   "outputs": [
    {
     "name": "stdout",
     "output_type": "stream",
     "text": [
      "The Accuracy of this model:  0.9977272727272727\n"
     ]
    }
   ],
   "source": [
    "from sklearn.ensemble import RandomForestClassifier\n",
    "\n",
    "RF = RandomForestClassifier(n_estimators=50, random_state=5)\n",
    "RF.fit(Xtrain,Ytrain)\n",
    "\n",
    "predicted_values = RF.predict(Xtest)\n",
    "\n",
    "x = metrics.accuracy_score(Ytest, predicted_values)\n",
    "\n",
    "print(\"The Accuracy of this model: \", x)"
   ]
  },
  {
   "cell_type": "code",
   "execution_count": 22,
   "metadata": {},
   "outputs": [
    {
     "data": {
      "text/plain": [
       "array(['maize'], dtype=object)"
      ]
     },
     "execution_count": 22,
     "metadata": {},
     "output_type": "execute_result"
    }
   ],
   "source": [
    "#Testing with a single input\n",
    "#data = [99,39,18,19.20129357,68.30578978,6.11275104,87.85092352,'maize']\n",
    "\n",
    "RF.predict([[99,39,18,19.20129357,68.30578978,6.11275104,87.85092352]]) "
   ]
  },
  {
   "cell_type": "code",
   "execution_count": 23,
   "metadata": {},
   "outputs": [],
   "source": [
    "\n",
    "# Dump the trained Naive Bayes classifier with Pickle\n",
    "\n",
    "filename = 'RFmodel.pkl'\n",
    "\n",
    "# Open the file to save as pkl file\n",
    "RF_file_pkl = open(filename, 'wb')\n",
    "pickle.dump(RF, RF_file_pkl)\n",
    "\n",
    "# Close the pickle instances\n",
    "RF_file_pkl.close()"
   ]
  },
  {
   "cell_type": "code",
   "execution_count": 24,
   "metadata": {},
   "outputs": [
    {
     "data": {
      "text/plain": [
       "array(['rice'], dtype=object)"
      ]
     },
     "execution_count": 24,
     "metadata": {},
     "output_type": "execute_result"
    }
   ],
   "source": [
    "RF.predict([[90,42,43,20.8797437,82.00274423,6.502985292,202.9355362]]) "
   ]
  },
  {
   "cell_type": "code",
   "execution_count": 27,
   "metadata": {},
   "outputs": [],
   "source": [
    "# Pickle model \n",
    "model = pd.read_pickle(r'C:\\Users\\DEEP COOMER\\Desktop\\Internship\\crop recom\\crop recom\\RFmodel.pkl')"
   ]
  },
  {
   "cell_type": "code",
   "execution_count": 28,
   "metadata": {},
   "outputs": [
    {
     "data": {
      "text/plain": [
       "array(['maize'], dtype=object)"
      ]
     },
     "execution_count": 28,
     "metadata": {},
     "output_type": "execute_result"
    }
   ],
   "source": [
    "model.predict([[99,39,18,19.20129357,68.30578978,6.11275104,87.85092352]])"
   ]
  },
  {
   "cell_type": "code",
   "execution_count": null,
   "metadata": {},
   "outputs": [],
   "source": []
  }
 ],
 "metadata": {
  "interpreter": {
   "hash": "2647ea34e536f865ab67ff9ddee7fd78773d956cec0cab53c79b32cd10da5d83"
  },
  "kernelspec": {
   "display_name": "Python 3",
   "language": "python",
   "name": "python3"
  },
  "language_info": {
   "codemirror_mode": {
    "name": "ipython",
    "version": 3
   },
   "file_extension": ".py",
   "mimetype": "text/x-python",
   "name": "python",
   "nbconvert_exporter": "python",
   "pygments_lexer": "ipython3",
   "version": "3.8.8"
  }
 },
 "nbformat": 4,
 "nbformat_minor": 2
}
